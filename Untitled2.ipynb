{
 "cells": [
  {
   "cell_type": "code",
   "execution_count": 29,
   "metadata": {},
   "outputs": [],
   "source": [
    "import bs4\n",
    "from urllib.request import urlopen as uReq\n",
    "from bs4 import BeautifulSoup as soup\n",
    "import re\n",
    "import ssl\n",
    "import wptools"
   ]
  },
  {
   "cell_type": "code",
   "execution_count": 30,
   "metadata": {},
   "outputs": [],
   "source": [
    "ctx = ssl.create_default_context()\n",
    "ctx.check_hostname = False\n",
    "ctx.verify_mode = ssl.CERT_NONE\n",
    "my_url = 'https://en.wikipedia.org/wiki/Vijay_Superum_Pournamiyum'"
   ]
  },
  {
   "cell_type": "code",
   "execution_count": 31,
   "metadata": {},
   "outputs": [],
   "source": [
    "uClient = uReq(my_url,context=ctx)\n",
    "page_html = uClient.read()\n",
    "uClient.close()\n",
    "page_soup = soup(page_html,\"html.parser\")"
   ]
  },
  {
   "cell_type": "code",
   "execution_count": 35,
   "metadata": {},
   "outputs": [],
   "source": [
    "table = page_soup.find(\"table\")"
   ]
  },
  {
   "cell_type": "code",
   "execution_count": 36,
   "metadata": {},
   "outputs": [
    {
     "data": {
      "text/plain": [
       "<table class=\"infobox vevent\" style=\"width:22em;font-size:90%;\"><tbody><tr><th class=\"summary\" colspan=\"2\" style=\"text-align:center;font-size:125%;font-weight:bold;font-size:110%;font-style:italic;\">Vijay Superum Pournamiyum</th></tr><tr><td colspan=\"2\" style=\"text-align:center\"><a class=\"image\" href=\"/wiki/File:Vijay_Superum_Pournamiyum.jpg\"><img alt=\"Vijay Superum Pournamiyum.jpg\" class=\"thumbborder\" data-file-height=\"320\" data-file-width=\"220\" decoding=\"async\" height=\"320\" src=\"//upload.wikimedia.org/wikipedia/en/d/d7/Vijay_Superum_Pournamiyum.jpg\" width=\"220\"/></a><div style=\"font-size:95%;padding:0.35em 0.35em 0.25em;line-height:1.25em;\">Theatrical release poster</div></td></tr><tr><th scope=\"row\" style=\"white-space:nowrap;padding-right:0.65em;\">Directed by</th><td><a href=\"/wiki/Jis_Joy\" title=\"Jis Joy\">Jis Joy</a></td></tr><tr><th scope=\"row\" style=\"white-space:nowrap;padding-right:0.65em;\">Produced by</th><td>Sunil A. K.</td></tr><tr><th scope=\"row\" style=\"white-space:nowrap;padding-right:0.65em;\">Screenplay by</th><td><a href=\"/wiki/Jis_Joy\" title=\"Jis Joy\">Jis Joy</a></td></tr><tr><th scope=\"row\" style=\"white-space:nowrap;padding-right:0.65em;\">Story by</th><td><a class=\"mw-redirect\" href=\"/wiki/Tharun_Bhascker_Dhaassyam\" title=\"Tharun Bhascker Dhaassyam\">Tharun Bhaskar</a></td></tr><tr><th scope=\"row\" style=\"white-space:nowrap;padding-right:0.65em;\">Based on</th><td><i><a href=\"/wiki/Pelli_Choopulu\" title=\"Pelli Choopulu\">Pelli Choopulu</a></i></td></tr><tr><th scope=\"row\" style=\"white-space:nowrap;padding-right:0.65em;\">Starring</th><td><div class=\"plainlist\">\n",
       "<ul><li><a href=\"/wiki/Asif_Ali_(actor)\" title=\"Asif Ali (actor)\">Asif Ali</a></li>\n",
       "<li><a href=\"/wiki/Aishwarya_Lekshmi\" title=\"Aishwarya Lekshmi\">Aishwarya Lekshmi</a></li>\n",
       "<li><a href=\"/wiki/Balu_Varghese\" title=\"Balu Varghese\">Balu Varghese</a></li>\n",
       "<li>Joseph Annamkutty Jose</li>\n",
       "<li><a href=\"/wiki/Siddique_(actor)\" title=\"Siddique (actor)\">Siddique</a></li>\n",
       "<li><a href=\"/wiki/Aju_Varghese\" title=\"Aju Varghese\">Aju Varghese</a></li>\n",
       "<li><a href=\"/wiki/Renji_Panicker\" title=\"Renji Panicker\">Renji Panicker</a></li>\n",
       "<li><a href=\"/wiki/Devan_(actor)\" title=\"Devan (actor)\">Devan</a></li>\n",
       "<li><a href=\"/wiki/K._P._A._C._Lalitha\" title=\"K. P. A. C. Lalitha\">K. P. A. C. Lalitha</a></li></ul>\n",
       "</div></td></tr><tr><th scope=\"row\" style=\"white-space:nowrap;padding-right:0.65em;\">Music by</th><td><b>Songs:</b><br/>Prince George<br/><b>Score:</b><br/><a href=\"/wiki/4_Musics\" title=\"4 Musics\">4 Musics</a></td></tr><tr><th scope=\"row\" style=\"white-space:nowrap;padding-right:0.65em;\">Cinematography</th><td><a href=\"/wiki/Renadive\" title=\"Renadive\">Renadive</a></td></tr><tr><th scope=\"row\" style=\"white-space:nowrap;padding-right:0.65em;\">Edited by</th><td>Ratheesh Raj</td></tr><tr><th scope=\"row\" style=\"white-space:nowrap;padding-right:0.65em;\"><div style=\"display:inline-block; padding:0.1em 0;line-height:1.2em;\">Production<br/>company </div></th><td><div style=\"vertical-align:middle;\">New Surya Films</div></td></tr><tr><th scope=\"row\" style=\"white-space:nowrap;padding-right:0.65em;\">Distributed by</th><td>Century Films</td></tr><tr><th scope=\"row\" style=\"white-space:nowrap;padding-right:0.65em;\"><div style=\"display:inline-block; padding:0.1em 0;line-height:1.2em;white-space:normal;\">Release date</div></th><td><div class=\"plainlist\">\n",
       "<ul><li>11 January 2019<span style=\"display:none\"> (<span class=\"bday dtstart published updated\">2019-01-11</span>)</span></li></ul>\n",
       "</div></td></tr><tr><th scope=\"row\" style=\"white-space:nowrap;padding-right:0.65em;\">Country</th><td>India</td></tr><tr><th scope=\"row\" style=\"white-space:nowrap;padding-right:0.65em;\">Language</th><td><a href=\"/wiki/Malayalam\" title=\"Malayalam\">Malayalam</a></td></tr><tr><th scope=\"row\" style=\"white-space:nowrap;padding-right:0.65em;\">Budget</th><td><span class=\"nowrap\"><span style=\"white-space: nowrap\">₹</span>4 crore</span> (US$560,000)</td></tr><tr><th scope=\"row\" style=\"white-space:nowrap;padding-right:0.65em;\">Box office</th><td><span class=\"nowrap\"><span style=\"white-space: nowrap\">₹</span>21 crore</span> (US$2.9 million)<sup class=\"reference\" id=\"cite_ref-1\"><a href=\"#cite_note-1\">[1]</a></sup></td></tr></tbody></table>"
      ]
     },
     "execution_count": 36,
     "metadata": {},
     "output_type": "execute_result"
    }
   ],
   "source": [
    "table"
   ]
  },
  {
   "cell_type": "code",
   "execution_count": 37,
   "metadata": {},
   "outputs": [
    {
     "name": "stdout",
     "output_type": "stream",
     "text": [
      "Vijay Superum PournamiyumTheatrical release posterDirected byJis JoyProduced bySunil A. K.Screenplay byJis JoyStory byTharun BhaskarBased onPelli ChoopuluStarring\n",
      "Asif Ali\n",
      "Aishwarya Lekshmi\n",
      "Balu Varghese\n",
      "Joseph Annamkutty Jose\n",
      "Siddique\n",
      "Aju Varghese\n",
      "Renji Panicker\n",
      "Devan\n",
      "K. P. A. C. Lalitha\n",
      "Music bySongs:Prince GeorgeScore:4 MusicsCinematographyRenadiveEdited byRatheesh RajProductioncompany New Surya FilmsDistributed byCentury FilmsRelease date\n",
      "11 January 2019 (2019-01-11)\n",
      "CountryIndiaLanguageMalayalamBudget₹4 crore (US$560,000)Box office₹21 crore (US$2.9 million)[1]\n"
     ]
    }
   ],
   "source": [
    "for tr in table:\n",
    "    print(tr.text)"
   ]
  },
  {
   "cell_type": "code",
   "execution_count": 38,
   "metadata": {},
   "outputs": [
    {
     "name": "stdout",
     "output_type": "stream",
     "text": [
      "<tbody><tr><th class=\"summary\" colspan=\"2\" style=\"text-align:center;font-size:125%;font-weight:bold;font-size:110%;font-style:italic;\">Vijay Superum Pournamiyum</th></tr><tr><td colspan=\"2\" style=\"text-align:center\"><a class=\"image\" href=\"/wiki/File:Vijay_Superum_Pournamiyum.jpg\"><img alt=\"Vijay Superum Pournamiyum.jpg\" class=\"thumbborder\" data-file-height=\"320\" data-file-width=\"220\" decoding=\"async\" height=\"320\" src=\"//upload.wikimedia.org/wikipedia/en/d/d7/Vijay_Superum_Pournamiyum.jpg\" width=\"220\"/></a><div style=\"font-size:95%;padding:0.35em 0.35em 0.25em;line-height:1.25em;\">Theatrical release poster</div></td></tr><tr><th scope=\"row\" style=\"white-space:nowrap;padding-right:0.65em;\">Directed by</th><td><a href=\"/wiki/Jis_Joy\" title=\"Jis Joy\">Jis Joy</a></td></tr><tr><th scope=\"row\" style=\"white-space:nowrap;padding-right:0.65em;\">Produced by</th><td>Sunil A. K.</td></tr><tr><th scope=\"row\" style=\"white-space:nowrap;padding-right:0.65em;\">Screenplay by</th><td><a href=\"/wiki/Jis_Joy\" title=\"Jis Joy\">Jis Joy</a></td></tr><tr><th scope=\"row\" style=\"white-space:nowrap;padding-right:0.65em;\">Story by</th><td><a class=\"mw-redirect\" href=\"/wiki/Tharun_Bhascker_Dhaassyam\" title=\"Tharun Bhascker Dhaassyam\">Tharun Bhaskar</a></td></tr><tr><th scope=\"row\" style=\"white-space:nowrap;padding-right:0.65em;\">Based on</th><td><i><a href=\"/wiki/Pelli_Choopulu\" title=\"Pelli Choopulu\">Pelli Choopulu</a></i></td></tr><tr><th scope=\"row\" style=\"white-space:nowrap;padding-right:0.65em;\">Starring</th><td><div class=\"plainlist\">\n",
      "<ul><li><a href=\"/wiki/Asif_Ali_(actor)\" title=\"Asif Ali (actor)\">Asif Ali</a></li>\n",
      "<li><a href=\"/wiki/Aishwarya_Lekshmi\" title=\"Aishwarya Lekshmi\">Aishwarya Lekshmi</a></li>\n",
      "<li><a href=\"/wiki/Balu_Varghese\" title=\"Balu Varghese\">Balu Varghese</a></li>\n",
      "<li>Joseph Annamkutty Jose</li>\n",
      "<li><a href=\"/wiki/Siddique_(actor)\" title=\"Siddique (actor)\">Siddique</a></li>\n",
      "<li><a href=\"/wiki/Aju_Varghese\" title=\"Aju Varghese\">Aju Varghese</a></li>\n",
      "<li><a href=\"/wiki/Renji_Panicker\" title=\"Renji Panicker\">Renji Panicker</a></li>\n",
      "<li><a href=\"/wiki/Devan_(actor)\" title=\"Devan (actor)\">Devan</a></li>\n",
      "<li><a href=\"/wiki/K._P._A._C._Lalitha\" title=\"K. P. A. C. Lalitha\">K. P. A. C. Lalitha</a></li></ul>\n",
      "</div></td></tr><tr><th scope=\"row\" style=\"white-space:nowrap;padding-right:0.65em;\">Music by</th><td><b>Songs:</b><br/>Prince George<br/><b>Score:</b><br/><a href=\"/wiki/4_Musics\" title=\"4 Musics\">4 Musics</a></td></tr><tr><th scope=\"row\" style=\"white-space:nowrap;padding-right:0.65em;\">Cinematography</th><td><a href=\"/wiki/Renadive\" title=\"Renadive\">Renadive</a></td></tr><tr><th scope=\"row\" style=\"white-space:nowrap;padding-right:0.65em;\">Edited by</th><td>Ratheesh Raj</td></tr><tr><th scope=\"row\" style=\"white-space:nowrap;padding-right:0.65em;\"><div style=\"display:inline-block; padding:0.1em 0;line-height:1.2em;\">Production<br/>company </div></th><td><div style=\"vertical-align:middle;\">New Surya Films</div></td></tr><tr><th scope=\"row\" style=\"white-space:nowrap;padding-right:0.65em;\">Distributed by</th><td>Century Films</td></tr><tr><th scope=\"row\" style=\"white-space:nowrap;padding-right:0.65em;\"><div style=\"display:inline-block; padding:0.1em 0;line-height:1.2em;white-space:normal;\">Release date</div></th><td><div class=\"plainlist\">\n",
      "<ul><li>11 January 2019<span style=\"display:none\"> (<span class=\"bday dtstart published updated\">2019-01-11</span>)</span></li></ul>\n",
      "</div></td></tr><tr><th scope=\"row\" style=\"white-space:nowrap;padding-right:0.65em;\">Country</th><td>India</td></tr><tr><th scope=\"row\" style=\"white-space:nowrap;padding-right:0.65em;\">Language</th><td><a href=\"/wiki/Malayalam\" title=\"Malayalam\">Malayalam</a></td></tr><tr><th scope=\"row\" style=\"white-space:nowrap;padding-right:0.65em;\">Budget</th><td><span class=\"nowrap\"><span style=\"white-space: nowrap\">₹</span>4 crore</span> (US$560,000)</td></tr><tr><th scope=\"row\" style=\"white-space:nowrap;padding-right:0.65em;\">Box office</th><td><span class=\"nowrap\"><span style=\"white-space: nowrap\">₹</span>21 crore</span> (US$2.9 million)<sup class=\"reference\" id=\"cite_ref-1\"><a href=\"#cite_note-1\">[1]</a></sup></td></tr></tbody>\n"
     ]
    }
   ],
   "source": [
    "for tr in table:\n",
    "    print(tr)\n",
    "    "
   ]
  },
  {
   "cell_type": "code",
   "execution_count": 39,
   "metadata": {},
   "outputs": [
    {
     "name": "stdout",
     "output_type": "stream",
     "text": [
      "Vijay Superum Pournamiyum\n",
      "Theatrical release poster\n",
      "Directed byJis Joy\n",
      "Produced bySunil A. K.\n",
      "Screenplay byJis Joy\n",
      "Story byTharun Bhaskar\n",
      "Based onPelli Choopulu\n",
      "Starring\n",
      "Asif Ali\n",
      "Aishwarya Lekshmi\n",
      "Balu Varghese\n",
      "Joseph Annamkutty Jose\n",
      "Siddique\n",
      "Aju Varghese\n",
      "Renji Panicker\n",
      "Devan\n",
      "K. P. A. C. Lalitha\n",
      "\n",
      "Music bySongs:Prince GeorgeScore:4 Musics\n",
      "CinematographyRenadive\n",
      "Edited byRatheesh Raj\n",
      "Productioncompany New Surya Films\n",
      "Distributed byCentury Films\n",
      "Release date\n",
      "11 January 2019 (2019-01-11)\n",
      "\n",
      "CountryIndia\n",
      "LanguageMalayalam\n",
      "Budget₹4 crore (US$560,000)\n",
      "Box office₹21 crore (US$2.9 million)[1]\n"
     ]
    }
   ],
   "source": [
    "for tr in table.find_all('tr') :\n",
    "    print(tr.text)"
   ]
  },
  {
   "cell_type": "code",
   "execution_count": 40,
   "metadata": {},
   "outputs": [],
   "source": [
    "x=table.find_all('tr')\n"
   ]
  },
  {
   "cell_type": "code",
   "execution_count": 41,
   "metadata": {},
   "outputs": [
    {
     "data": {
      "text/plain": [
       "[<tr><th class=\"summary\" colspan=\"2\" style=\"text-align:center;font-size:125%;font-weight:bold;font-size:110%;font-style:italic;\">Vijay Superum Pournamiyum</th></tr>,\n",
       " <tr><td colspan=\"2\" style=\"text-align:center\"><a class=\"image\" href=\"/wiki/File:Vijay_Superum_Pournamiyum.jpg\"><img alt=\"Vijay Superum Pournamiyum.jpg\" class=\"thumbborder\" data-file-height=\"320\" data-file-width=\"220\" decoding=\"async\" height=\"320\" src=\"//upload.wikimedia.org/wikipedia/en/d/d7/Vijay_Superum_Pournamiyum.jpg\" width=\"220\"/></a><div style=\"font-size:95%;padding:0.35em 0.35em 0.25em;line-height:1.25em;\">Theatrical release poster</div></td></tr>,\n",
       " <tr><th scope=\"row\" style=\"white-space:nowrap;padding-right:0.65em;\">Directed by</th><td><a href=\"/wiki/Jis_Joy\" title=\"Jis Joy\">Jis Joy</a></td></tr>,\n",
       " <tr><th scope=\"row\" style=\"white-space:nowrap;padding-right:0.65em;\">Produced by</th><td>Sunil A. K.</td></tr>,\n",
       " <tr><th scope=\"row\" style=\"white-space:nowrap;padding-right:0.65em;\">Screenplay by</th><td><a href=\"/wiki/Jis_Joy\" title=\"Jis Joy\">Jis Joy</a></td></tr>,\n",
       " <tr><th scope=\"row\" style=\"white-space:nowrap;padding-right:0.65em;\">Story by</th><td><a class=\"mw-redirect\" href=\"/wiki/Tharun_Bhascker_Dhaassyam\" title=\"Tharun Bhascker Dhaassyam\">Tharun Bhaskar</a></td></tr>,\n",
       " <tr><th scope=\"row\" style=\"white-space:nowrap;padding-right:0.65em;\">Based on</th><td><i><a href=\"/wiki/Pelli_Choopulu\" title=\"Pelli Choopulu\">Pelli Choopulu</a></i></td></tr>,\n",
       " <tr><th scope=\"row\" style=\"white-space:nowrap;padding-right:0.65em;\">Starring</th><td><div class=\"plainlist\">\n",
       " <ul><li><a href=\"/wiki/Asif_Ali_(actor)\" title=\"Asif Ali (actor)\">Asif Ali</a></li>\n",
       " <li><a href=\"/wiki/Aishwarya_Lekshmi\" title=\"Aishwarya Lekshmi\">Aishwarya Lekshmi</a></li>\n",
       " <li><a href=\"/wiki/Balu_Varghese\" title=\"Balu Varghese\">Balu Varghese</a></li>\n",
       " <li>Joseph Annamkutty Jose</li>\n",
       " <li><a href=\"/wiki/Siddique_(actor)\" title=\"Siddique (actor)\">Siddique</a></li>\n",
       " <li><a href=\"/wiki/Aju_Varghese\" title=\"Aju Varghese\">Aju Varghese</a></li>\n",
       " <li><a href=\"/wiki/Renji_Panicker\" title=\"Renji Panicker\">Renji Panicker</a></li>\n",
       " <li><a href=\"/wiki/Devan_(actor)\" title=\"Devan (actor)\">Devan</a></li>\n",
       " <li><a href=\"/wiki/K._P._A._C._Lalitha\" title=\"K. P. A. C. Lalitha\">K. P. A. C. Lalitha</a></li></ul>\n",
       " </div></td></tr>,\n",
       " <tr><th scope=\"row\" style=\"white-space:nowrap;padding-right:0.65em;\">Music by</th><td><b>Songs:</b><br/>Prince George<br/><b>Score:</b><br/><a href=\"/wiki/4_Musics\" title=\"4 Musics\">4 Musics</a></td></tr>,\n",
       " <tr><th scope=\"row\" style=\"white-space:nowrap;padding-right:0.65em;\">Cinematography</th><td><a href=\"/wiki/Renadive\" title=\"Renadive\">Renadive</a></td></tr>,\n",
       " <tr><th scope=\"row\" style=\"white-space:nowrap;padding-right:0.65em;\">Edited by</th><td>Ratheesh Raj</td></tr>,\n",
       " <tr><th scope=\"row\" style=\"white-space:nowrap;padding-right:0.65em;\"><div style=\"display:inline-block; padding:0.1em 0;line-height:1.2em;\">Production<br/>company </div></th><td><div style=\"vertical-align:middle;\">New Surya Films</div></td></tr>,\n",
       " <tr><th scope=\"row\" style=\"white-space:nowrap;padding-right:0.65em;\">Distributed by</th><td>Century Films</td></tr>,\n",
       " <tr><th scope=\"row\" style=\"white-space:nowrap;padding-right:0.65em;\"><div style=\"display:inline-block; padding:0.1em 0;line-height:1.2em;white-space:normal;\">Release date</div></th><td><div class=\"plainlist\">\n",
       " <ul><li>11 January 2019<span style=\"display:none\"> (<span class=\"bday dtstart published updated\">2019-01-11</span>)</span></li></ul>\n",
       " </div></td></tr>,\n",
       " <tr><th scope=\"row\" style=\"white-space:nowrap;padding-right:0.65em;\">Country</th><td>India</td></tr>,\n",
       " <tr><th scope=\"row\" style=\"white-space:nowrap;padding-right:0.65em;\">Language</th><td><a href=\"/wiki/Malayalam\" title=\"Malayalam\">Malayalam</a></td></tr>,\n",
       " <tr><th scope=\"row\" style=\"white-space:nowrap;padding-right:0.65em;\">Budget</th><td><span class=\"nowrap\"><span style=\"white-space: nowrap\">₹</span>4 crore</span> (US$560,000)</td></tr>,\n",
       " <tr><th scope=\"row\" style=\"white-space:nowrap;padding-right:0.65em;\">Box office</th><td><span class=\"nowrap\"><span style=\"white-space: nowrap\">₹</span>21 crore</span> (US$2.9 million)<sup class=\"reference\" id=\"cite_ref-1\"><a href=\"#cite_note-1\">[1]</a></sup></td></tr>]"
      ]
     },
     "execution_count": 41,
     "metadata": {},
     "output_type": "execute_result"
    }
   ],
   "source": [
    "x\n"
   ]
  },
  {
   "cell_type": "code",
   "execution_count": 42,
   "metadata": {},
   "outputs": [
    {
     "data": {
      "text/plain": [
       "<table class=\"infobox vevent\" style=\"width:22em;font-size:90%;\"><tbody><tr><th class=\"summary\" colspan=\"2\" style=\"text-align:center;font-size:125%;font-weight:bold;font-size:110%;font-style:italic;\">Vijay Superum Pournamiyum</th></tr><tr><td colspan=\"2\" style=\"text-align:center\"><a class=\"image\" href=\"/wiki/File:Vijay_Superum_Pournamiyum.jpg\"><img alt=\"Vijay Superum Pournamiyum.jpg\" class=\"thumbborder\" data-file-height=\"320\" data-file-width=\"220\" decoding=\"async\" height=\"320\" src=\"//upload.wikimedia.org/wikipedia/en/d/d7/Vijay_Superum_Pournamiyum.jpg\" width=\"220\"/></a><div style=\"font-size:95%;padding:0.35em 0.35em 0.25em;line-height:1.25em;\">Theatrical release poster</div></td></tr><tr><th scope=\"row\" style=\"white-space:nowrap;padding-right:0.65em;\">Directed by</th><td><a href=\"/wiki/Jis_Joy\" title=\"Jis Joy\">Jis Joy</a></td></tr><tr><th scope=\"row\" style=\"white-space:nowrap;padding-right:0.65em;\">Produced by</th><td>Sunil A. K.</td></tr><tr><th scope=\"row\" style=\"white-space:nowrap;padding-right:0.65em;\">Screenplay by</th><td><a href=\"/wiki/Jis_Joy\" title=\"Jis Joy\">Jis Joy</a></td></tr><tr><th scope=\"row\" style=\"white-space:nowrap;padding-right:0.65em;\">Story by</th><td><a class=\"mw-redirect\" href=\"/wiki/Tharun_Bhascker_Dhaassyam\" title=\"Tharun Bhascker Dhaassyam\">Tharun Bhaskar</a></td></tr><tr><th scope=\"row\" style=\"white-space:nowrap;padding-right:0.65em;\">Based on</th><td><i><a href=\"/wiki/Pelli_Choopulu\" title=\"Pelli Choopulu\">Pelli Choopulu</a></i></td></tr><tr><th scope=\"row\" style=\"white-space:nowrap;padding-right:0.65em;\">Starring</th><td><div class=\"plainlist\">\n",
       "<ul><li><a href=\"/wiki/Asif_Ali_(actor)\" title=\"Asif Ali (actor)\">Asif Ali</a></li>\n",
       "<li><a href=\"/wiki/Aishwarya_Lekshmi\" title=\"Aishwarya Lekshmi\">Aishwarya Lekshmi</a></li>\n",
       "<li><a href=\"/wiki/Balu_Varghese\" title=\"Balu Varghese\">Balu Varghese</a></li>\n",
       "<li>Joseph Annamkutty Jose</li>\n",
       "<li><a href=\"/wiki/Siddique_(actor)\" title=\"Siddique (actor)\">Siddique</a></li>\n",
       "<li><a href=\"/wiki/Aju_Varghese\" title=\"Aju Varghese\">Aju Varghese</a></li>\n",
       "<li><a href=\"/wiki/Renji_Panicker\" title=\"Renji Panicker\">Renji Panicker</a></li>\n",
       "<li><a href=\"/wiki/Devan_(actor)\" title=\"Devan (actor)\">Devan</a></li>\n",
       "<li><a href=\"/wiki/K._P._A._C._Lalitha\" title=\"K. P. A. C. Lalitha\">K. P. A. C. Lalitha</a></li></ul>\n",
       "</div></td></tr><tr><th scope=\"row\" style=\"white-space:nowrap;padding-right:0.65em;\">Music by</th><td><b>Songs:</b><br/>Prince George<br/><b>Score:</b><br/><a href=\"/wiki/4_Musics\" title=\"4 Musics\">4 Musics</a></td></tr><tr><th scope=\"row\" style=\"white-space:nowrap;padding-right:0.65em;\">Cinematography</th><td><a href=\"/wiki/Renadive\" title=\"Renadive\">Renadive</a></td></tr><tr><th scope=\"row\" style=\"white-space:nowrap;padding-right:0.65em;\">Edited by</th><td>Ratheesh Raj</td></tr><tr><th scope=\"row\" style=\"white-space:nowrap;padding-right:0.65em;\"><div style=\"display:inline-block; padding:0.1em 0;line-height:1.2em;\">Production<br/>company </div></th><td><div style=\"vertical-align:middle;\">New Surya Films</div></td></tr><tr><th scope=\"row\" style=\"white-space:nowrap;padding-right:0.65em;\">Distributed by</th><td>Century Films</td></tr><tr><th scope=\"row\" style=\"white-space:nowrap;padding-right:0.65em;\"><div style=\"display:inline-block; padding:0.1em 0;line-height:1.2em;white-space:normal;\">Release date</div></th><td><div class=\"plainlist\">\n",
       "<ul><li>11 January 2019<span style=\"display:none\"> (<span class=\"bday dtstart published updated\">2019-01-11</span>)</span></li></ul>\n",
       "</div></td></tr><tr><th scope=\"row\" style=\"white-space:nowrap;padding-right:0.65em;\">Country</th><td>India</td></tr><tr><th scope=\"row\" style=\"white-space:nowrap;padding-right:0.65em;\">Language</th><td><a href=\"/wiki/Malayalam\" title=\"Malayalam\">Malayalam</a></td></tr><tr><th scope=\"row\" style=\"white-space:nowrap;padding-right:0.65em;\">Budget</th><td><span class=\"nowrap\"><span style=\"white-space: nowrap\">₹</span>4 crore</span> (US$560,000)</td></tr><tr><th scope=\"row\" style=\"white-space:nowrap;padding-right:0.65em;\">Box office</th><td><span class=\"nowrap\"><span style=\"white-space: nowrap\">₹</span>21 crore</span> (US$2.9 million)<sup class=\"reference\" id=\"cite_ref-1\"><a href=\"#cite_note-1\">[1]</a></sup></td></tr></tbody></table>"
      ]
     },
     "execution_count": 42,
     "metadata": {},
     "output_type": "execute_result"
    }
   ],
   "source": [
    "table\n"
   ]
  },
  {
   "cell_type": "code",
   "execution_count": 47,
   "metadata": {},
   "outputs": [],
   "source": [
    "x=table.find_all(\"Directed by\")"
   ]
  },
  {
   "cell_type": "code",
   "execution_count": 48,
   "metadata": {},
   "outputs": [
    {
     "data": {
      "text/plain": [
       "[]"
      ]
     },
     "execution_count": 48,
     "metadata": {},
     "output_type": "execute_result"
    }
   ],
   "source": [
    "x"
   ]
  },
  {
   "cell_type": "code",
   "execution_count": null,
   "metadata": {},
   "outputs": [],
   "source": []
  }
 ],
 "metadata": {
  "kernelspec": {
   "display_name": "Python 3",
   "language": "python",
   "name": "python3"
  },
  "language_info": {
   "codemirror_mode": {
    "name": "ipython",
    "version": 3
   },
   "file_extension": ".py",
   "mimetype": "text/x-python",
   "name": "python",
   "nbconvert_exporter": "python",
   "pygments_lexer": "ipython3",
   "version": "3.8.3"
  }
 },
 "nbformat": 4,
 "nbformat_minor": 4
}
