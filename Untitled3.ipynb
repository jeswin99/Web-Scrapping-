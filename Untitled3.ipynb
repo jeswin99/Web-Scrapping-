{
 "cells": [
  {
   "cell_type": "code",
   "execution_count": null,
   "metadata": {},
   "outputs": [],
   "source": [
    "import urllib.parse, urllib.error\n",
    "import re\n",
    "import ssl\n",
    "from urllib.request import urlopen as uReq\n",
    "# Ignore SSL certificate errors\n",
    "ctx = ssl.create_default_context()\n",
    "ctx.check_hostname = False\n",
    "ctx.verify_mode = ssl.CERT_NONE\n",
    "i=0\n",
    "indices=[]\n",
    "while i<2:\n",
    "    print(i)\n",
    "    url = 'https://www.malayalachalachithram.com/movieslist.php?y=2018&p='+str(i+1)\n",
    "    html = urllib.request.urlopen(url, context=ctx).read()\n",
    "    indices = re.findall(b'<dt><a href=\"movie.php.*?i=(.*?)\"', html)\n",
    "    i+=1\n",
    "for index in indices :\n",
    "  print(index.decode())\n",
    "  \n",
    "print(indices)"
   ]
  },
  {
   "cell_type": "code",
   "execution_count": null,
   "metadata": {},
   "outputs": [],
   "source": []
  }
 ],
 "metadata": {
  "kernelspec": {
   "display_name": "Python 3",
   "language": "python",
   "name": "python3"
  },
  "language_info": {
   "codemirror_mode": {
    "name": "ipython",
    "version": 3
   },
   "file_extension": ".py",
   "mimetype": "text/x-python",
   "name": "python",
   "nbconvert_exporter": "python",
   "pygments_lexer": "ipython3",
   "version": "3.8.3"
  }
 },
 "nbformat": 4,
 "nbformat_minor": 4
}
