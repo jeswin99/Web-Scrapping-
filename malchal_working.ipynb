{
 "cells": [
  {
   "cell_type": "code",
   "execution_count": null,
   "metadata": {},
   "outputs": [],
   "source": [
    "#!/usr/bin/env python3\n",
    "# -*- coding: utf-8 -*-\n",
    "\"\"\"\n",
    "Created on Sun Sep 27 19:46:08 2020\n",
    "\n",
    "@author: jeswin\n",
    "\"\"\"\n",
    "import re\n",
    "import ssl\n",
    "from urllib.request import urlopen as uReq\n",
    "i=0\n",
    "indices=[]\n",
    "indices_decoded=[]\n",
    "nameset=[]\n",
    "while i<5:\n",
    "  my_url = 'https://www.malayalachalachithram.com/movieslist.php?y=2019&p='+str(i+1)\n",
    "  uClient = uReq(my_url)\n",
    "  page_html = uClient.read()\n",
    "  uClient.close()\n",
    "  indices+=re.findall(b'<dt><a href=\"movie.php.*?i=(.*?)\"',page_html)\n",
    "  i+=1\n",
    "for index in indices:\n",
    "  indices_decoded.append(index.decode())\n",
    "title={}\n",
    "release={}\n",
    "director={}\n",
    "cast={}\n",
    "for i in indices_decoded:\n",
    "  my_url='https://www.malayalachalachithram.com/movie.php?i='+i\n",
    "  uClient = uReq(my_url)\n",
    "  html = uClient.read()\n",
    "  uClient.close()\n",
    "  title[i] = re.findall(b'class=\"movie\" itemprop=\"name\">(.*?)<', html)\n",
    "  release[i] = re.findall(b'itemprop=\"datePublished\">(.*?)<', html)\n",
    "  director[i] = re.findall(b'itemprop=\"director\" itemscope .*?<a itemprop=\"name\".*?>(.*?)<', html)\n",
    "  cast[i] = re.findall(b'itemprop=\"actor\" itemscope .*?<a itemprop=\"name\".*?>(.*?)<', html)\n",
    "for i in indices_decoded:\n",
    "  print(title[i].decode()+\"\\t\"+release[i].decode()+\"\\t\"+director[i].decode()+\"\\t\")"
   ]
  }
 ],
 "metadata": {
  "kernelspec": {
   "display_name": "Python 3",
   "language": "python",
   "name": "python3"
  },
  "language_info": {
   "codemirror_mode": {
    "name": "ipython",
    "version": 3
   },
   "file_extension": ".py",
   "mimetype": "text/x-python",
   "name": "python",
   "nbconvert_exporter": "python",
   "pygments_lexer": "ipython3",
   "version": "3.8.3"
  }
 },
 "nbformat": 4,
 "nbformat_minor": 4
}
